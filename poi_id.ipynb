{
 "cells": [
  {
   "cell_type": "code",
   "execution_count": 1,
   "metadata": {
    "collapsed": false
   },
   "outputs": [],
   "source": [
    "#!/usr/bin/python\n",
    "\n",
    "import sys\n",
    "import pickle\n",
    "import numpy\n",
    "import pandas as pd\n",
    "sys.path.append(\"../\")\n",
    "\n",
    "from feature_format import featureFormat, targetFeatureSplit\n",
    "from tester import dump_classifier_and_data\n",
    "\n",
    "### Task 1: Select what features you'll use.\n",
    "### features_list is a list of strings, each of which is a feature name.\n",
    "### The first feature must be \"poi\".\n",
    "#features_list = ['poi','bonus','deferral_payments', 'deferred_income', 'director_fees', 'exercised_stock_options', \n",
    "#                'expenses', 'from_messages', 'from_poi_to_this_person', 'from_this_person_to_poi', 'loan_advances', \n",
    "#                'long_term_incentive','other', 'restricted_stock', 'restricted_stock_deferred', 'salary', \n",
    "#                'shared_receipt_with_poi','total_payments', 'total_stock_value', 'emailwithPOI', \n",
    "#                'short_term_interest', 'long_term_interest']\n",
    "\n",
    "#final feature list\n",
    "features_list = ['poi','bonus', 'exercised_stock_options', 'salary', 'total_stock_value', 'short_term_interest']\n",
    "\n",
    "### Load the dictionary containing the dataset\n",
    "with open(\"final_project_dataset.pkl\", \"r\") as data_file:\n",
    "    data_dict = pickle.load(data_file)\n"
   ]
  },
  {
   "cell_type": "code",
   "execution_count": 2,
   "metadata": {
    "collapsed": false
   },
   "outputs": [
    {
     "data": {
      "text/plain": [
       "{'bonus': 'NaN',\n",
       " 'deferral_payments': 'NaN',\n",
       " 'deferred_income': 'NaN',\n",
       " 'director_fees': 'NaN',\n",
       " 'email_address': 'NaN',\n",
       " 'exercised_stock_options': 'NaN',\n",
       " 'expenses': 'NaN',\n",
       " 'from_messages': 'NaN',\n",
       " 'from_poi_to_this_person': 'NaN',\n",
       " 'from_this_person_to_poi': 'NaN',\n",
       " 'loan_advances': 'NaN',\n",
       " 'long_term_incentive': 'NaN',\n",
       " 'other': 362096,\n",
       " 'poi': False,\n",
       " 'restricted_stock': 'NaN',\n",
       " 'restricted_stock_deferred': 'NaN',\n",
       " 'salary': 'NaN',\n",
       " 'shared_receipt_with_poi': 'NaN',\n",
       " 'to_messages': 'NaN',\n",
       " 'total_payments': 362096,\n",
       " 'total_stock_value': 'NaN'}"
      ]
     },
     "execution_count": 2,
     "metadata": {},
     "output_type": "execute_result"
    }
   ],
   "source": [
    "### Task 2: Remove outliers\n",
    "\n",
    "#remove TOTAL from dataset\n",
    "data_dict.pop('TOTAL',0)\n",
    "\n",
    "#remove Lockhart from dataset since any data he has is NaN\n",
    "data_dict.pop('LOCKHART EUGENE E',0)\n",
    "\n",
    "#remove THE TRAVEL AGENCY IN THE PARK from dataset because this is not a person. According to enron61702insiderpay pdf document,\n",
    "#this is a travel agency that books business travels for Enron employees\n",
    "data_dict.pop('THE TRAVEL AGENCY IN THE PARK',0)"
   ]
  },
  {
   "cell_type": "code",
   "execution_count": 3,
   "metadata": {
    "collapsed": false
   },
   "outputs": [],
   "source": [
    "#remove NaN value\n",
    "import math\n",
    "\n",
    "NaNlist = ['bonus','deferred_income','from_this_person_to_poi', 'from_messages', 'from_poi_to_this_person', 'to_messages',\n",
    "          'salary', 'other', 'expenses', 'exercised_stock_options', 'long_term_incentive', 'restricted_stock']\n",
    "\n",
    "for person in data_dict:\n",
    "    for feature in NaNlist:\n",
    "        if math.isnan(float(data_dict[person][feature])) == True:\n",
    "            data_dict[person][feature] = 0\n",
    "\n",
    "#Export cleaned dataset to Excel\n",
    "#import pandas as pd\n",
    "#df=pd.DataFrame.from_records(data_dict)\n",
    "#df.to_excel('Enron_dataset_cleaned.xlsx', sheet_name='sheet1', index=True)\n"
   ]
  },
  {
   "cell_type": "code",
   "execution_count": 4,
   "metadata": {
    "collapsed": false
   },
   "outputs": [],
   "source": [
    "### Task 3: Create new feature(s)\n",
    "### Store to my_dataset for easy export below.\n",
    "my_dataset = data_dict\n",
    "\n",
    "#create a new feature: emailwithPOI to measure the % of email a person sends to or receives from a POI over the total emails \n",
    "#that person sends or receives. The idea is that a person with more communication with a POI is more likely to collude \n",
    "#in the scandal\n",
    "for person, datapoints in my_dataset.iteritems():\n",
    "    if datapoints['from_messages'] == 0 or datapoints['to_messages'] == 0:\n",
    "        datapoints['emailwithPOI'] = 0\n",
    "    else:\n",
    "        datapoints['emailwithPOI'] = float(((datapoints['from_this_person_to_poi'] * 100 / datapoints['from_messages']) + \n",
    "                                    (datapoints['from_poi_to_this_person'] *100 / datapoints['to_messages'])))\n",
    "\n",
    "# short_term_interest is the new metric that combine all payments that an Enron employee can receive within a year. These \n",
    "# payments tend to inventivize the employee to focus on short-term success of the company to maximize payout\n",
    "    datapoints['short_term_interest'] = (datapoints['salary'] + datapoints['bonus'] + datapoints['other']\n",
    "                        + datapoints['expenses'] + datapoints['exercised_stock_options'])\n",
    "# long_term_interest forces the employee to think about long-term success of the company as these incentives\n",
    "# cannot be received right away\n",
    "    datapoints['long_term_interest'] = (datapoints['long_term_incentive'] + datapoints['restricted_stock'])\n",
    "        "
   ]
  },
  {
   "cell_type": "code",
   "execution_count": 5,
   "metadata": {
    "collapsed": false
   },
   "outputs": [],
   "source": [
    "### Extract features and labels from dataset for local testing\n",
    "data = featureFormat(my_dataset, features_list, sort_keys = True)\n",
    "labels, features = targetFeatureSplit(data)\n"
   ]
  },
  {
   "cell_type": "code",
   "execution_count": 6,
   "metadata": {
    "collapsed": true
   },
   "outputs": [],
   "source": [
    "### Task 4: Try a varity of classifiers\n",
    "### Please name your classifier clf for easy export below.\n",
    "### Note that if you want to do PCA or other multi-stage operations,\n",
    "### you'll need to use Pipelines. For more info:\n",
    "### http://scikit-learn.org/stable/modules/pipeline.html\n",
    "\n",
    "# Provided to give you a starting point. Try a variety of classifiers.\n",
    "\n",
    "# SVC (not used, takes too long)\n",
    "#from sklearn.svm import SVC\n",
    "#clf = SVC(C=1, kernel=\"linear\")\n",
    "\n",
    "# KNeighbors (also takes too long)\n",
    "#from sklearn.neighbors import KNeighborsClassifier\n",
    "#clf = KNeighborsClassifier(n_neighbors=3)\n",
    "\n",
    "# DecisionTree\n",
    "#from sklearn import tree\n",
    "#clf = tree.DecisionTreeClassifier(min_samples_split=5)\n",
    "\n",
    "# Random Forest\n",
    "#from sklearn.ensemble import RandomForestClassifier\n",
    "#clf = RandomForestClassifier(n_estimators=20)\n",
    "\n",
    "#Naive_Bayes\n",
    "from sklearn.naive_bayes import GaussianNB\n",
    "clf = GaussianNB()"
   ]
  },
  {
   "cell_type": "code",
   "execution_count": 7,
   "metadata": {
    "collapsed": false
   },
   "outputs": [],
   "source": [
    "### Task 5: Tune your classifier to achieve better than .3 precision and recall \n",
    "### using our testing script. Check the tester.py script in the final project\n",
    "### folder for details on the evaluation method, especially the test_classifier\n",
    "### function. Because of the small size of the dataset, the script uses\n",
    "### stratified shuffle split cross validation. For more info: \n",
    "### http://scikit-learn.org/stable/modules/generated/sklearn.cross_validation.StratifiedShuffleSplit.html\n",
    "\n",
    "# Example starting point. Try investigating other evaluation techniques!\n",
    "from sklearn.cross_validation import train_test_split\n",
    "features_train, features_test, labels_train, labels_test = \\\n",
    "    train_test_split(features, labels, test_size=0.3, random_state=42)\n",
    "\n",
    "### use KFold for split and validate algorithm\n",
    "from sklearn.cross_validation import KFold\n",
    "kf=KFold(len(labels),3)\n",
    "for train_indices, test_indices in kf:\n",
    "    #make training and testing sets\n",
    "    features_train= [features[ii] for ii in train_indices]\n",
    "    features_test= [features[ii] for ii in test_indices]\n",
    "    labels_train=[labels[ii] for ii in train_indices]\n",
    "    labels_test=[labels[ii] for ii in test_indices]    \n",
    "    \n",
    "# Use SlectKBest ad f_classif to chose the best features\n",
    "from sklearn.feature_selection import SelectKBest, f_classif\n",
    "selector = SelectKBest(f_classif, k=5)\n",
    "selector.fit(features_train, labels_train)\n",
    "new_features_train = selector.transform(features_train)\n",
    "new_features_test = selector.transform(features_test) \n"
   ]
  },
  {
   "cell_type": "code",
   "execution_count": 8,
   "metadata": {
    "collapsed": false
   },
   "outputs": [
    {
     "name": "stdout",
     "output_type": "stream",
     "text": [
      "                            0\n",
      "True                    bonus\n",
      "True  exercised_stock_options\n",
      "True                   salary\n",
      "True        total_stock_value\n",
      "True      short_term_interest\n"
     ]
    }
   ],
   "source": [
    "# Print out the chosen features. Go back to feature_list and include only the chosen features\n",
    "chosen_features = selector.get_support(indices=False)\n",
    "testing_features = features_list[1:]\n",
    "print pd.DataFrame(testing_features, chosen_features)"
   ]
  },
  {
   "cell_type": "code",
   "execution_count": 9,
   "metadata": {
    "collapsed": false
   },
   "outputs": [
    {
     "name": "stdout",
     "output_type": "stream",
     "text": [
      "[ 0.00084106  0.00264535  0.00253519  0.00154023  0.00074865]\n",
      "[ 11.92874028   9.55575731   9.64221446  10.66461269  12.17471465]\n",
      "                                 0\n",
      "11.928740                    bonus\n",
      "9.555757   exercised_stock_options\n",
      "9.642214                    salary\n",
      "10.664613        total_stock_value\n",
      "12.174715      short_term_interest\n"
     ]
    }
   ],
   "source": [
    "print selector.pvalues_\n",
    "scores = selector.scores_\n",
    "print scores\n",
    "print pd.DataFrame(testing_features, scores)\n",
    "\n",
    "import matplotlib.pyplot as plt\n",
    "plt.bar(range(len(testing_features)), scores)\n",
    "plt.xticks(range(len(testing_features)), testing_features, rotation='vertical')\n",
    "plt.show()"
   ]
  },
  {
   "cell_type": "code",
   "execution_count": 10,
   "metadata": {
    "collapsed": false
   },
   "outputs": [
    {
     "name": "stdout",
     "output_type": "stream",
     "text": [
      "training time: 0.002 s\n",
      "predicting time: 0.001 s\n",
      "accuracy is: 0.913043478261\n",
      "Precision score is: 0.6\n",
      "Recall score is: 0.6\n",
      "Confusion Matrix\n"
     ]
    },
    {
     "data": {
      "text/plain": [
       "array([[ 3,  2],\n",
       "       [ 2, 39]])"
      ]
     },
     "execution_count": 10,
     "metadata": {},
     "output_type": "execute_result"
    }
   ],
   "source": [
    "from time import time\n",
    "t0 = time()\n",
    "clf.fit(new_features_train, labels_train)\n",
    "print \"training time:\", round(time()-t0, 3), \"s\"\n",
    "t1 = time()\n",
    "pred = clf.predict(new_features_test)\n",
    "print \"predicting time:\", round(time()-t1, 3), \"s\"\n",
    "\n",
    "accuracy = clf.score(new_features_test, labels_test)\n",
    "print \"accuracy is:\", accuracy\n",
    "\n",
    "from sklearn import metrics\n",
    "print \"Precision score is:\", metrics.precision_score(labels_test, pred)\n",
    "print \"Recall score is:\", metrics.recall_score(labels_test, pred)\n",
    "\n",
    "from sklearn.metrics import confusion_matrix\n",
    "print \"Confusion Matrix\"\n",
    "confusion_matrix(labels_test, pred, labels=[1,0])"
   ]
  },
  {
   "cell_type": "code",
   "execution_count": 11,
   "metadata": {
    "collapsed": false
   },
   "outputs": [],
   "source": [
    "#Decision tree: checking feature importance and updated feature list\n",
    "#import pandas as pd\n",
    "#testing_features = features_list[1:]\n",
    "#print pd.DataFrame(testing_features, clf.feature_importances_).sort(columns=None, axis=0, ascending=False)"
   ]
  },
  {
   "cell_type": "code",
   "execution_count": 12,
   "metadata": {
    "collapsed": true
   },
   "outputs": [],
   "source": [
    "### Task 6: Dump your classifier, dataset, and features_list so anyone can\n",
    "### check your results. You do not need to change anything below, but make sure\n",
    "### that the version of poi_id.py that you submit can be run on its own and\n",
    "### generates the necessary .pkl files for validating your results.\n",
    "\n",
    "dump_classifier_and_data(clf, my_dataset, features_list)"
   ]
  },
  {
   "cell_type": "code",
   "execution_count": null,
   "metadata": {
    "collapsed": true
   },
   "outputs": [],
   "source": []
  }
 ],
 "metadata": {
  "kernelspec": {
   "display_name": "Python 2",
   "language": "python",
   "name": "python2"
  },
  "language_info": {
   "codemirror_mode": {
    "name": "ipython",
    "version": 2
   },
   "file_extension": ".py",
   "mimetype": "text/x-python",
   "name": "python",
   "nbconvert_exporter": "python",
   "pygments_lexer": "ipython2",
   "version": "2.7.11"
  }
 },
 "nbformat": 4,
 "nbformat_minor": 0
}
